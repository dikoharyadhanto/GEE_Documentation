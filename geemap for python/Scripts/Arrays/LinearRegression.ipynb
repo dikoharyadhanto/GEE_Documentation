{
  "nbformat": 4,
  "nbformat_minor": 0,
  "metadata": {
    "colab": {
      "name": "LinearRegression.ipynb",
      "provenance": []
    }
  },
  "cells": [
    {
      "cell_type": "markdown",
      "source": [
        "## Install Earth Engine API and geemap\n",
        "Install the [Earth Engine Python API](https://developers.google.com/earth-engine/python_install) and [geemap](https://geemap.org). The **geemap** Python package is built upon the [ipyleaflet](https://github.com/jupyter-widgets/ipyleaflet) and [folium](https://github.com/python-visualization/folium) packages and implements several methods for interacting with Earth Engine data layers, such as `Map.addLayer()`, `Map.setCenter()`, and `Map.centerObject()`.\n",
        "The following script checks if the geemap package has been installed. If not, it will install geemap, which automatically installs its [dependencies](https://github.com/giswqs/geemap#dependencies), including earthengine-api, folium, and ipyleaflet."
      ],
      "metadata": {
        "id": "yN9tnccDULJh"
      }
    },
    {
      "cell_type": "code",
      "metadata": {
        "id": "2BcMVNbhUH6T"
      },
      "source": [
        "# Installs geemap package\n",
        "import subprocess\n",
        "\n",
        "try:\n",
        "    import geemap\n",
        "except ImportError:\n",
        "    print(\"Installing geemap ...\")\n",
        "    subprocess.check_call([\"python\", \"-m\", \"pip\", \"install\", \"geemap\"])"
      ],
      "outputs": [],
      "execution_count": null
    },
    {
      "cell_type": "code",
      "metadata": {
        "id": "BbvdGFa_UH6V"
      },
      "source": [
        "import ee\n",
        "import geemap"
      ],
      "outputs": [],
      "execution_count": null
    },
    {
      "cell_type": "markdown",
      "source": [
        "## Create an interactive map \n",
        "The default basemap is `Google Maps`. [Additional basemaps](https://github.com/giswqs/geemap/blob/master/geemap/basemaps.py) can be added using the `Map.add_basemap()` function. "
      ],
      "metadata": {
        "id": "exQYJ2ORUQBM"
      }
    },
    {
      "cell_type": "code",
      "metadata": {
        "id": "0_o2726EUH6X"
      },
      "source": [
        "Map = geemap.Map(center=[40, -100], zoom=4)\n",
        "Map"
      ],
      "outputs": [],
      "execution_count": null
    },
    {
      "cell_type": "markdown",
      "source": [
        "## Add Earth Engine Python script "
      ],
      "metadata": {
        "id": "01c8WNMaUVVg"
      }
    },
    {
      "cell_type": "code",
      "metadata": {
        "id": "L_mvjN0NUH6Z"
      },
      "source": [
        "# Add Earth Engine dataset\n",
        "# Simple regression of year versus NDVI.\n",
        "\n",
        "# Define the start date and position to get images covering Montezuma Castle,\n",
        "# Arizona, from 2000-2010.\n",
        "start = '2000-01-01'\n",
        "end = '2010-01-01'\n",
        "lng = -111.83533\n",
        "lat = 34.57499\n",
        "region = ee.Geometry.Point(lng, lat)\n",
        "\n",
        "# Filter to Landsat 7 images in the given time and place, filter to a regular\n",
        "# time of year to avoid seasonal affects, and for each image create the bands\n",
        "# we will regress on:\n",
        "# 1. A 1, so the resulting array has a column of ones to capture the offset.\n",
        "# 2. Fractional year past 2000-01-01.\n",
        "# 3. NDVI.\n",
        "images = ee.ImageCollection('LANDSAT/LE07/C01/T1') \\\n",
        "  .filterDate(start, end) \\\n",
        "  .filter(ee.Filter.dayOfYear(160, 240)) \\\n",
        "  .filterBounds(region)\n",
        "\n",
        "def func_xge(image):\n",
        "    date = ee.Date(image.get('system:time_start'))\n",
        "    yearOffset = date.difference(ee.Date(start), 'year')\n",
        "    ndvi = image.normalizedDifference(['B4', 'B3'])\n",
        "    return ee.Image(1).addBands(yearOffset).addBands(ndvi).toDouble() \\\n",
        "  .map(func_xge)\n",
        "\n",
        "\n",
        "\n",
        "\n",
        "\n",
        "\n",
        "\n",
        "# Convert to an array. Give the axes names for more readable code.\n",
        "array = images.toArray()\n",
        "imageAxis = 0\n",
        "bandAxis = 1\n",
        "\n",
        "# Slice off the year and ndvi, and solve for the coefficients.\n",
        "x = array.arraySlice(bandAxis, 0, 2)\n",
        "y = array.arraySlice(bandAxis, 2)\n",
        "fit = x.matrixSolve(y)\n",
        "\n",
        "# Get the coefficient for the year, effectively the slope of the long-term\n",
        "# NDVI trend.\n",
        "slope = fit.arrayGet([1, 0])\n",
        "\n",
        "Map.setCenter(lng, lat, 12)\n",
        "Map.addLayer(slope, {'min': -0.03, 'max': 0.03}, 'Slope')"
      ],
      "outputs": [],
      "execution_count": null
    },
    {
      "cell_type": "markdown",
      "source": [
        "## Display Earth Engine data layers"
      ],
      "metadata": {
        "id": "guhrMj85Uakn"
      }
    },
    {
      "cell_type": "code",
      "metadata": {
        "id": "-IVDoyI0UH6f"
      },
      "source": [
        "Map.addLayerControl()  # This line is not needed for ipyleaflet-based Map.\n",
        "Map"
      ],
      "outputs": [],
      "execution_count": null
    }
  ]
}