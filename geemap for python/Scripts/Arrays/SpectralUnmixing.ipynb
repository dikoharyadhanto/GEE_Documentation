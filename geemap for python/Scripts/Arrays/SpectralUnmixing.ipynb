{
  "nbformat": 4,
  "nbformat_minor": 0,
  "metadata": {
    "colab": {
      "name": "SpectralUnmixing.ipynb",
      "provenance": []
    }
  },
  "cells": [
    {
      "cell_type": "markdown",
      "source": [
        "## Install Earth Engine API and geemap\n",
        "Install the [Earth Engine Python API](https://developers.google.com/earth-engine/python_install) and [geemap](https://geemap.org). The **geemap** Python package is built upon the [ipyleaflet](https://github.com/jupyter-widgets/ipyleaflet) and [folium](https://github.com/python-visualization/folium) packages and implements several methods for interacting with Earth Engine data layers, such as `Map.addLayer()`, `Map.setCenter()`, and `Map.centerObject()`.\n",
        "The following script checks if the geemap package has been installed. If not, it will install geemap, which automatically installs its [dependencies](https://github.com/giswqs/geemap#dependencies), including earthengine-api, folium, and ipyleaflet.\n"
      ],
      "metadata": {
        "id": "K8VHc-07VLXU"
      }
    },
    {
      "cell_type": "code",
      "metadata": {
        "id": "fKSRUA6zVCvk"
      },
      "source": [
        "# Installs geemap package\n",
        "import subprocess\n",
        "\n",
        "try:\n",
        "    import geemap\n",
        "except ImportError:\n",
        "    print(\"Installing geemap ...\")\n",
        "    subprocess.check_call([\"python\", \"-m\", \"pip\", \"install\", \"geemap\"])"
      ],
      "outputs": [],
      "execution_count": null
    },
    {
      "cell_type": "code",
      "metadata": {
        "id": "nexGwF2mVCvn"
      },
      "source": [
        "import ee\n",
        "import geemap"
      ],
      "outputs": [],
      "execution_count": null
    },
    {
      "cell_type": "markdown",
      "source": [
        "## Create an interactive map \n",
        "The default basemap is `Google Maps`. [Additional basemaps](https://github.com/giswqs/geemap/blob/master/geemap/basemaps.py) can be added using the `Map.add_basemap()` function. \n"
      ],
      "metadata": {
        "id": "e-irtQoaVOlH"
      }
    },
    {
      "cell_type": "code",
      "metadata": {
        "id": "8Bki0R3CVCvr"
      },
      "source": [
        "Map = geemap.Map(center=[40, -100], zoom=4)\n",
        "Map"
      ],
      "outputs": [],
      "execution_count": null
    },
    {
      "cell_type": "markdown",
      "source": [
        "## Add Earth Engine Python script "
      ],
      "metadata": {
        "id": "dnQi2LrfVRMP"
      }
    },
    {
      "cell_type": "code",
      "metadata": {
        "id": "aD0IX_L_VCvv"
      },
      "source": [
        "# Add Earth Engine dataset\n",
        "# Array-based spectral unmixing.\n",
        "\n",
        "# Create a mosaic of Landsat 5 images from June through September, 2007.\n",
        "allBandMosaic = ee.ImageCollection('LANDSAT/LT05/C01/T1') \\\n",
        "  .filterDate('2007-06-01', '2007-09-30') \\\n",
        "  .select('B[0-7]') \\\n",
        "  .median()\n",
        "\n",
        "# Create some representative endmembers computed previously by sampling\n",
        "# the Landsat 5 mosaic.\n",
        "urbanEndmember = [88, 42, 48, 38, 86, 115, 59]\n",
        "vegEndmember = [50, 21, 20, 35, 50, 110, 23]\n",
        "waterEndmember = [51, 20, 14, 9, 7, 116, 4]\n",
        "\n",
        "# Compute the 3x7 pseudo inverse.\n",
        "endmembers = ee.Array([urbanEndmember, vegEndmember, waterEndmember])\n",
        "inverse = ee.Image(endmembers.matrixPseudoInverse().transpose())\n",
        "\n",
        "# Convert the bands to a 2D 7x1 array. The toArray() call concatenates\n",
        "# pixels from each band along the default axis 0 into a 1D vector per\n",
        "# pixel, and the toArray(1) call concatenates each band (in this case\n",
        "# just the one band of 1D vectors) along axis 1, forming a 2D array.\n",
        "inputValues = allBandMosaic.toArray().toArray(1)\n",
        "\n",
        "# Matrix multiply the pseudo inverse of the endmembers by the pixels to\n",
        "# get a 3x1 set of endmembers fractions from 0 to 1.\n",
        "unmixed = inverse.matrixMultiply(inputValues)\n",
        "\n",
        "# Create and show a colored image of the endmember fractions. Since we know\n",
        "# the result has size 3x1, project down to 1D vectors at each pixel (since the\n",
        "# second axis is pointless now), and then flatten back to a regular scalar\n",
        "# image.\n",
        "colored = unmixed \\\n",
        "  .arrayProject([0]) \\\n",
        "  .arrayFlatten([['urban', 'veg', 'water']])\n",
        "Map.setCenter(-98.4, 19, 11)\n",
        "\n",
        "# Load a hillshade to use as a backdrop.\n",
        "Map.addLayer(ee.Algorithms.Terrain(ee.Image('CGIAR/SRTM90_V4')).select('hillshade'))\n",
        "Map.addLayer(colored, {'min': 0, 'max': 1},\n",
        "  'Unmixed (red=urban, green=veg, blue=water)')"
      ],
      "outputs": [],
      "execution_count": null
    },
    {
      "cell_type": "markdown",
      "source": [
        "## Display Earth Engine data layers \n"
      ],
      "metadata": {
        "id": "jML7B4AKVUZY"
      }
    },
    {
      "cell_type": "code",
      "metadata": {
        "id": "OWWe73VeVCv1"
      },
      "source": [
        "Map.addLayerControl()  # This line is not needed for ipyleaflet-based Map.\n",
        "Map"
      ],
      "outputs": [],
      "execution_count": null
    }
  ]
}